{
 "cells": [
  {
   "cell_type": "markdown",
   "metadata": {},
   "source": [
    "# Segmenting and Clustering Neighborhoods in Toronto #"
   ]
  },
  {
   "cell_type": "markdown",
   "metadata": {},
   "source": [
    "## Import Dependencies ##"
   ]
  },
  {
   "cell_type": "code",
   "execution_count": null,
   "metadata": {},
   "outputs": [],
   "source": [
    "#%% Import Dependencies\n",
    "import numpy as np # library to handle data in a vectorized manner\n",
    "\n",
    "import pandas as pd # library for data analsysis\n",
    "pd.set_option('display.max_columns', None)\n",
    "pd.set_option('display.max_rows', None)\n",
    "\n",
    "import json # library to handle JSON files\n",
    "\n",
    "#!conda install -c conda-forge geopy --yes # uncomment this line if you haven't completed the Foursquare API lab\n",
    "from geopy.geocoders import Nominatim # convert an address into latitude and longitude values\n",
    "\n",
    "import requests # library to handle requests\n",
    "from pandas.io.json import json_normalize # tranform JSON file into a pandas dataframe\n",
    "\n",
    "# Matplotlib and associated plotting modules\n",
    "import matplotlib.cm as cm\n",
    "import matplotlib.colors as colors\n",
    "\n",
    "# import k-means from clustering stage\n",
    "from sklearn.cluster import KMeans\n",
    "\n",
    "#!conda install -c conda-forge folium=0.5.0 --yes # uncomment this line if you haven't completed the Foursquare API lab\n",
    "import folium # map rendering library\n",
    "\n",
    "import wget #download files\n",
    "\n",
    "print('Libraries imported.')"
   ]
  },
  {
   "cell_type": "markdown",
   "metadata": {},
   "source": [
    "## Get Postal Codes Data from Wikipedia into DataFrame ##"
   ]
  },
  {
   "cell_type": "code",
   "execution_count": null,
   "metadata": {},
   "outputs": [],
   "source": [
    "#%% Get Postal Codes Data\n",
    "df0 = pd.read_html(\"https://en.wikipedia.org/wiki/List_of_postal_codes_of_Canada:_M\")\n",
    "df1=df0[0].copy()\n",
    "df1.head()"
   ]
  },
  {
   "cell_type": "markdown",
   "metadata": {},
   "source": [
    "## Group Neighbourhoods by Borough ##"
   ]
  },
  {
   "cell_type": "code",
   "execution_count": null,
   "metadata": {},
   "outputs": [],
   "source": [
    "#%% Process Postal Codes Data\n",
    "column_names=df1.iloc[0]\n",
    "df1.columns=column_names\n",
    "df1.drop(df1.index[0], inplace=True)\n",
    "\n",
    "df1=df1[df1['Borough']!='Not assigned']\n",
    "df1['Neighbourhood'][df1['Neighbourhood']=='Not assigned']=df1['Borough'][df1['Neighbourhood']=='Not assigned']\n",
    "\n",
    "df2=df1.groupby(['Postcode','Borough'])['Neighbourhood'].apply(lambda x: \"%s\" % ', '.join(x)).to_frame()\n",
    "df2.reset_index(inplace=True)\n",
    "\n",
    "df2.shape"
   ]
  },
  {
   "cell_type": "markdown",
   "metadata": {},
   "source": [
    "# Question 1: Postal Codes by Borough #"
   ]
  },
  {
   "cell_type": "code",
   "execution_count": 100,
   "metadata": {},
   "outputs": [
    {
     "data": {
      "text/html": [
       "<div>\n",
       "<style scoped>\n",
       "    .dataframe tbody tr th:only-of-type {\n",
       "        vertical-align: middle;\n",
       "    }\n",
       "\n",
       "    .dataframe tbody tr th {\n",
       "        vertical-align: top;\n",
       "    }\n",
       "\n",
       "    .dataframe thead th {\n",
       "        text-align: right;\n",
       "    }\n",
       "</style>\n",
       "<table border=\"1\" class=\"dataframe\">\n",
       "  <thead>\n",
       "    <tr style=\"text-align: right;\">\n",
       "      <th></th>\n",
       "      <th>Postcode</th>\n",
       "      <th>Borough</th>\n",
       "      <th>Neighbourhood</th>\n",
       "    </tr>\n",
       "  </thead>\n",
       "  <tbody>\n",
       "    <tr>\n",
       "      <th>0</th>\n",
       "      <td>M1B</td>\n",
       "      <td>Scarborough</td>\n",
       "      <td>Rouge, Malvern</td>\n",
       "    </tr>\n",
       "    <tr>\n",
       "      <th>1</th>\n",
       "      <td>M1C</td>\n",
       "      <td>Scarborough</td>\n",
       "      <td>Highland Creek, Rouge Hill, Port Union</td>\n",
       "    </tr>\n",
       "    <tr>\n",
       "      <th>2</th>\n",
       "      <td>M1E</td>\n",
       "      <td>Scarborough</td>\n",
       "      <td>Guildwood, Morningside, West Hill</td>\n",
       "    </tr>\n",
       "    <tr>\n",
       "      <th>3</th>\n",
       "      <td>M1G</td>\n",
       "      <td>Scarborough</td>\n",
       "      <td>Woburn</td>\n",
       "    </tr>\n",
       "    <tr>\n",
       "      <th>4</th>\n",
       "      <td>M1H</td>\n",
       "      <td>Scarborough</td>\n",
       "      <td>Cedarbrae</td>\n",
       "    </tr>\n",
       "    <tr>\n",
       "      <th>5</th>\n",
       "      <td>M1J</td>\n",
       "      <td>Scarborough</td>\n",
       "      <td>Scarborough Village</td>\n",
       "    </tr>\n",
       "    <tr>\n",
       "      <th>6</th>\n",
       "      <td>M1K</td>\n",
       "      <td>Scarborough</td>\n",
       "      <td>East Birchmount Park, Ionview, Kennedy Park</td>\n",
       "    </tr>\n",
       "    <tr>\n",
       "      <th>7</th>\n",
       "      <td>M1L</td>\n",
       "      <td>Scarborough</td>\n",
       "      <td>Clairlea, Golden Mile, Oakridge</td>\n",
       "    </tr>\n",
       "    <tr>\n",
       "      <th>8</th>\n",
       "      <td>M1M</td>\n",
       "      <td>Scarborough</td>\n",
       "      <td>Cliffcrest, Cliffside, Scarborough Village West</td>\n",
       "    </tr>\n",
       "    <tr>\n",
       "      <th>9</th>\n",
       "      <td>M1N</td>\n",
       "      <td>Scarborough</td>\n",
       "      <td>Birch Cliff, Cliffside West</td>\n",
       "    </tr>\n",
       "    <tr>\n",
       "      <th>10</th>\n",
       "      <td>M1P</td>\n",
       "      <td>Scarborough</td>\n",
       "      <td>Dorset Park, Scarborough Town Centre, Wexford ...</td>\n",
       "    </tr>\n",
       "  </tbody>\n",
       "</table>\n",
       "</div>"
      ],
      "text/plain": [
       "   Postcode      Borough                                      Neighbourhood\n",
       "0       M1B  Scarborough                                     Rouge, Malvern\n",
       "1       M1C  Scarborough             Highland Creek, Rouge Hill, Port Union\n",
       "2       M1E  Scarborough                  Guildwood, Morningside, West Hill\n",
       "3       M1G  Scarborough                                             Woburn\n",
       "4       M1H  Scarborough                                          Cedarbrae\n",
       "5       M1J  Scarborough                                Scarborough Village\n",
       "6       M1K  Scarborough        East Birchmount Park, Ionview, Kennedy Park\n",
       "7       M1L  Scarborough                    Clairlea, Golden Mile, Oakridge\n",
       "8       M1M  Scarborough    Cliffcrest, Cliffside, Scarborough Village West\n",
       "9       M1N  Scarborough                        Birch Cliff, Cliffside West\n",
       "10      M1P  Scarborough  Dorset Park, Scarborough Town Centre, Wexford ..."
      ]
     },
     "execution_count": 100,
     "metadata": {},
     "output_type": "execute_result"
    }
   ],
   "source": [
    "#Check Postal Code Data\n",
    "df2.head(11)"
   ]
  },
  {
   "cell_type": "markdown",
   "metadata": {},
   "source": [
    "## Download Toronto Neighbourhood Geo Data##"
   ]
  },
  {
   "cell_type": "code",
   "execution_count": null,
   "metadata": {},
   "outputs": [],
   "source": [
    "#%% Download Geo Data\n",
    "url='https://cocl.us/Geospatial_data'\n",
    "filename=wget.download(url)\n",
    "filename"
   ]
  },
  {
   "cell_type": "markdown",
   "metadata": {},
   "source": [
    "# Question 2: Postal Codes & Geo Data by Borough #\n",
    "## Merge Download Toronto Postal Code and Geo Data##"
   ]
  },
  {
   "cell_type": "code",
   "execution_count": 101,
   "metadata": {},
   "outputs": [
    {
     "data": {
      "text/html": [
       "<div>\n",
       "<style scoped>\n",
       "    .dataframe tbody tr th:only-of-type {\n",
       "        vertical-align: middle;\n",
       "    }\n",
       "\n",
       "    .dataframe tbody tr th {\n",
       "        vertical-align: top;\n",
       "    }\n",
       "\n",
       "    .dataframe thead th {\n",
       "        text-align: right;\n",
       "    }\n",
       "</style>\n",
       "<table border=\"1\" class=\"dataframe\">\n",
       "  <thead>\n",
       "    <tr style=\"text-align: right;\">\n",
       "      <th></th>\n",
       "      <th>Postcode</th>\n",
       "      <th>Borough</th>\n",
       "      <th>Neighbourhood</th>\n",
       "      <th>Latitude</th>\n",
       "      <th>Longitude</th>\n",
       "    </tr>\n",
       "  </thead>\n",
       "  <tbody>\n",
       "    <tr>\n",
       "      <th>0</th>\n",
       "      <td>M1B</td>\n",
       "      <td>Scarborough</td>\n",
       "      <td>Rouge, Malvern</td>\n",
       "      <td>43.806686</td>\n",
       "      <td>-79.194353</td>\n",
       "    </tr>\n",
       "    <tr>\n",
       "      <th>1</th>\n",
       "      <td>M1C</td>\n",
       "      <td>Scarborough</td>\n",
       "      <td>Highland Creek, Rouge Hill, Port Union</td>\n",
       "      <td>43.784535</td>\n",
       "      <td>-79.160497</td>\n",
       "    </tr>\n",
       "    <tr>\n",
       "      <th>2</th>\n",
       "      <td>M1E</td>\n",
       "      <td>Scarborough</td>\n",
       "      <td>Guildwood, Morningside, West Hill</td>\n",
       "      <td>43.763573</td>\n",
       "      <td>-79.188711</td>\n",
       "    </tr>\n",
       "    <tr>\n",
       "      <th>3</th>\n",
       "      <td>M1G</td>\n",
       "      <td>Scarborough</td>\n",
       "      <td>Woburn</td>\n",
       "      <td>43.770992</td>\n",
       "      <td>-79.216917</td>\n",
       "    </tr>\n",
       "    <tr>\n",
       "      <th>4</th>\n",
       "      <td>M1H</td>\n",
       "      <td>Scarborough</td>\n",
       "      <td>Cedarbrae</td>\n",
       "      <td>43.773136</td>\n",
       "      <td>-79.239476</td>\n",
       "    </tr>\n",
       "    <tr>\n",
       "      <th>5</th>\n",
       "      <td>M1J</td>\n",
       "      <td>Scarborough</td>\n",
       "      <td>Scarborough Village</td>\n",
       "      <td>43.744734</td>\n",
       "      <td>-79.239476</td>\n",
       "    </tr>\n",
       "    <tr>\n",
       "      <th>6</th>\n",
       "      <td>M1K</td>\n",
       "      <td>Scarborough</td>\n",
       "      <td>East Birchmount Park, Ionview, Kennedy Park</td>\n",
       "      <td>43.727929</td>\n",
       "      <td>-79.262029</td>\n",
       "    </tr>\n",
       "    <tr>\n",
       "      <th>7</th>\n",
       "      <td>M1L</td>\n",
       "      <td>Scarborough</td>\n",
       "      <td>Clairlea, Golden Mile, Oakridge</td>\n",
       "      <td>43.711112</td>\n",
       "      <td>-79.284577</td>\n",
       "    </tr>\n",
       "    <tr>\n",
       "      <th>8</th>\n",
       "      <td>M1M</td>\n",
       "      <td>Scarborough</td>\n",
       "      <td>Cliffcrest, Cliffside, Scarborough Village West</td>\n",
       "      <td>43.716316</td>\n",
       "      <td>-79.239476</td>\n",
       "    </tr>\n",
       "    <tr>\n",
       "      <th>9</th>\n",
       "      <td>M1N</td>\n",
       "      <td>Scarborough</td>\n",
       "      <td>Birch Cliff, Cliffside West</td>\n",
       "      <td>43.692657</td>\n",
       "      <td>-79.264848</td>\n",
       "    </tr>\n",
       "    <tr>\n",
       "      <th>10</th>\n",
       "      <td>M1P</td>\n",
       "      <td>Scarborough</td>\n",
       "      <td>Dorset Park, Scarborough Town Centre, Wexford ...</td>\n",
       "      <td>43.757410</td>\n",
       "      <td>-79.273304</td>\n",
       "    </tr>\n",
       "  </tbody>\n",
       "</table>\n",
       "</div>"
      ],
      "text/plain": [
       "   Postcode      Borough                                      Neighbourhood  \\\n",
       "0       M1B  Scarborough                                     Rouge, Malvern   \n",
       "1       M1C  Scarborough             Highland Creek, Rouge Hill, Port Union   \n",
       "2       M1E  Scarborough                  Guildwood, Morningside, West Hill   \n",
       "3       M1G  Scarborough                                             Woburn   \n",
       "4       M1H  Scarborough                                          Cedarbrae   \n",
       "5       M1J  Scarborough                                Scarborough Village   \n",
       "6       M1K  Scarborough        East Birchmount Park, Ionview, Kennedy Park   \n",
       "7       M1L  Scarborough                    Clairlea, Golden Mile, Oakridge   \n",
       "8       M1M  Scarborough    Cliffcrest, Cliffside, Scarborough Village West   \n",
       "9       M1N  Scarborough                        Birch Cliff, Cliffside West   \n",
       "10      M1P  Scarborough  Dorset Park, Scarborough Town Centre, Wexford ...   \n",
       "\n",
       "     Latitude  Longitude  \n",
       "0   43.806686 -79.194353  \n",
       "1   43.784535 -79.160497  \n",
       "2   43.763573 -79.188711  \n",
       "3   43.770992 -79.216917  \n",
       "4   43.773136 -79.239476  \n",
       "5   43.744734 -79.239476  \n",
       "6   43.727929 -79.262029  \n",
       "7   43.711112 -79.284577  \n",
       "8   43.716316 -79.239476  \n",
       "9   43.692657 -79.264848  \n",
       "10  43.757410 -79.273304  "
      ]
     },
     "execution_count": 101,
     "metadata": {},
     "output_type": "execute_result"
    }
   ],
   "source": [
    "#Merge Postal Code and Geo Data\n",
    "\n",
    "df3=pd.read_csv(filename)\n",
    "df2=pd.concat([df2,df3], axis=1)\n",
    "df2.drop(['Postal Code'], axis=1, inplace=True)\n",
    "df2.head(11)"
   ]
  },
  {
   "cell_type": "markdown",
   "metadata": {},
   "source": [
    "## Explode Neighbourhood Column into rows ##"
   ]
  },
  {
   "cell_type": "code",
   "execution_count": null,
   "metadata": {},
   "outputs": [],
   "source": [
    "#%% Neighbourhood Info\n",
    "\n",
    "df4 = pd.DataFrame(df2.Neighbourhood.str.split(', ').tolist()).stack().to_frame()\n",
    "df4.reset_index(inplace=True)\n",
    "df4[1]=df2['Borough'].iloc[df4['level_0']].values\n",
    "df4[2]=df2['Latitude'].iloc[df4['level_0']].values\n",
    "df4[3]=df2['Longitude'].iloc[df4['level_0']].values\n",
    "\n",
    "df4.drop(['level_0','level_1'], axis=1, inplace=True)\n",
    "df4.columns=['Neighbourhood','Borough','Latitude','Longitude']\n",
    "df4.head()"
   ]
  },
  {
   "cell_type": "markdown",
   "metadata": {},
   "source": [
    "## Limit Analysis to Downtown Toronto only ##"
   ]
  },
  {
   "cell_type": "code",
   "execution_count": null,
   "metadata": {},
   "outputs": [],
   "source": [
    "df4=df4[df4['Borough']=='Downtown Toronto']\n",
    "df4.head()\n",
    "df4.shape"
   ]
  },
  {
   "cell_type": "markdown",
   "metadata": {},
   "source": [
    "## Get Toronto Coordinates ##"
   ]
  },
  {
   "cell_type": "code",
   "execution_count": null,
   "metadata": {},
   "outputs": [],
   "source": [
    "#%% Toronto Coordinates\n",
    "address = 'Toronto, ON'\n",
    "\n",
    "geolocator = Nominatim(user_agent=\"ny_explorer\")\n",
    "location = geolocator.geocode(address)\n",
    "latitude = location.latitude\n",
    "longitude = location.longitude\n",
    "print('The geograpical coordinate of Toronto are {}, {}.'.format(latitude, longitude))"
   ]
  },
  {
   "cell_type": "markdown",
   "metadata": {},
   "source": [
    "## Create Toronto Test Map ##"
   ]
  },
  {
   "cell_type": "code",
   "execution_count": null,
   "metadata": {},
   "outputs": [],
   "source": [
    "#%% Test Map\n",
    "\n",
    "# create map of Toronto using latitude and longitude values\n",
    "map_Toronto = folium.Map(location=[latitude, longitude], zoom_start=13)\n",
    "\n",
    "# add markers to map\n",
    "for lat, lng, borough, neighbourhood in zip(df4['Latitude'], df4['Longitude'], df4['Borough'], df4['Neighbourhood']):\n",
    "    label = '{}, {}'.format(neighbourhood, borough)\n",
    "    label = folium.Popup(label, parse_html=True)\n",
    "    folium.CircleMarker(\n",
    "        [lat, lng],\n",
    "        radius=5,\n",
    "        popup=label,\n",
    "        color='blue',\n",
    "        fill=True,\n",
    "        fill_color='#3186cc',\n",
    "        fill_opacity=0.7,\n",
    "        parse_html=False).add_to(map_Toronto)  \n",
    "    \n",
    "map_Toronto"
   ]
  },
  {
   "cell_type": "markdown",
   "metadata": {},
   "source": [
    "## Save Foursquare Login Info ##"
   ]
  },
  {
   "cell_type": "code",
   "execution_count": null,
   "metadata": {},
   "outputs": [],
   "source": [
    "#Foursquare Login Info\n",
    "CLIENT_ID = 'EH5NVS3H0UK5L4J43OQX4U5VSVIGPSGEOL5CAES4EEPABSBO' # your Foursquare ID\n",
    "CLIENT_SECRET = '1L1UWLPCTNWWSEKDAVDLNPDI043MFYXR4WZA3PIO051KXO0V' # your Foursquare Secret\n",
    "VERSION = '20180605' # Foursquare API version\n",
    "\n",
    "print('Your credentails:')\n",
    "print('CLIENT_ID: ' + CLIENT_ID)\n",
    "print('CLIENT_SECRET:' + CLIENT_SECRET)"
   ]
  },
  {
   "cell_type": "markdown",
   "metadata": {},
   "source": [
    "## Define Function to get venues for each neighbourhood from Foursquare, Run Function ##"
   ]
  },
  {
   "cell_type": "code",
   "execution_count": null,
   "metadata": {},
   "outputs": [],
   "source": [
    "#Function to get venues in each neighbourhood\n",
    "def getNearbyVenues(names, latitudes, longitudes, radius=500):\n",
    "    \n",
    "    venues_list=[]\n",
    "    for name, lat, lng in zip(names, latitudes, longitudes):\n",
    "        print(name)\n",
    "            \n",
    "        # create the API request URL\n",
    "        url = 'https://api.foursquare.com/v2/venues/explore?&client_id={}&client_secret={}&v={}&ll={},{}&radius={}&limit={}'.format(\n",
    "            CLIENT_ID, \n",
    "            CLIENT_SECRET, \n",
    "            VERSION, \n",
    "            lat, \n",
    "            lng, \n",
    "            radius, \n",
    "            LIMIT)\n",
    "            \n",
    "        # make the GET request\n",
    "        results = requests.get(url).json()[\"response\"]['groups'][0]['items']\n",
    "        \n",
    "        # return only relevant information for each nearby venue\n",
    "        venues_list.append([(\n",
    "            name, \n",
    "            lat, \n",
    "            lng, \n",
    "            v['venue']['name'], \n",
    "            v['venue']['location']['lat'], \n",
    "            v['venue']['location']['lng'],  \n",
    "            v['venue']['categories'][0]['name']) for v in results])\n",
    "\n",
    "    nearby_venues = pd.DataFrame([item for venue_list in venues_list for item in venue_list])\n",
    "    nearby_venues.columns = ['Neighbourhood', \n",
    "                  'Neighbourhood Latitude', \n",
    "                  'Neighbourhood Longitude', \n",
    "                  'Venue', \n",
    "                  'Venue Latitude', \n",
    "                  'Venue Longitude', \n",
    "                  'Venue Category']\n",
    "    \n",
    "    return(nearby_venues)"
   ]
  },
  {
   "cell_type": "code",
   "execution_count": null,
   "metadata": {},
   "outputs": [],
   "source": [
    "LIMIT=100\n",
    "radius=500\n",
    "toronto_venues = getNearbyVenues(names=df4['Neighbourhood'],\n",
    "                                   latitudes=df4['Latitude'],\n",
    "                                   longitudes=df4['Longitude']\n",
    "                                  )"
   ]
  },
  {
   "cell_type": "code",
   "execution_count": null,
   "metadata": {},
   "outputs": [],
   "source": [
    "print(toronto_venues.shape)\n",
    "toronto_venues.head()"
   ]
  },
  {
   "cell_type": "markdown",
   "metadata": {},
   "source": [
    "## Group Venues to get List of Neighbourhoods ##\n",
    "### Ensure no errors if a neighbourhood has no venues ###"
   ]
  },
  {
   "cell_type": "code",
   "execution_count": null,
   "metadata": {},
   "outputs": [],
   "source": [
    "df5=toronto_venues.groupby('Neighbourhood').mean()\n",
    "df5"
   ]
  },
  {
   "cell_type": "code",
   "execution_count": null,
   "metadata": {},
   "outputs": [],
   "source": [
    "df5.drop(['Venue Latitude','Venue Longitude'], axis=1, inplace=True)\n",
    "df5.reset_index(inplace=True)\n",
    "print(df5.shape)\n",
    "df5"
   ]
  },
  {
   "cell_type": "markdown",
   "metadata": {},
   "source": [
    "## Perform One Hot Encoding for each Venue Category, Get Average per Neighbourhood ##"
   ]
  },
  {
   "cell_type": "code",
   "execution_count": null,
   "metadata": {},
   "outputs": [],
   "source": [
    "# one hot encoding\n",
    "toronto_onehot = pd.get_dummies(toronto_venues[['Venue Category']], prefix=\"\", prefix_sep=\"\")\n",
    "\n",
    "# add Neighbourhood column back to dataframe\n",
    "toronto_onehot['Neighbourhood'] = toronto_venues['Neighbourhood'] \n",
    "\n",
    "# move Neighbourhood column to the first column\n",
    "fixed_columns = [toronto_onehot.columns[-1]] + list(toronto_onehot.columns[:-1])\n",
    "toronto_onehot = toronto_onehot[fixed_columns]\n",
    "\n",
    "toronto_onehot.head()"
   ]
  },
  {
   "cell_type": "code",
   "execution_count": null,
   "metadata": {},
   "outputs": [],
   "source": [
    "toronto_grouped = toronto_onehot.groupby('Neighbourhood').mean().reset_index()\n",
    "print(toronto_grouped.shape)\n",
    "toronto_grouped"
   ]
  },
  {
   "cell_type": "markdown",
   "metadata": {},
   "source": [
    "## K-Means Clustering on Average Dataset ##"
   ]
  },
  {
   "cell_type": "code",
   "execution_count": null,
   "metadata": {},
   "outputs": [],
   "source": [
    "# set number of clusters\n",
    "kclusters = 10\n",
    "\n",
    "toronto_grouped_clustering = toronto_grouped.drop('Neighbourhood', 1)\n",
    "\n",
    "# run k-means clustering\n",
    "kmeans = KMeans(n_clusters=kclusters, random_state=0).fit(toronto_grouped_clustering)\n",
    "\n",
    "# check cluster labels generated for each row in the dataframe\n",
    "kmeans.labels_[0:10] "
   ]
  },
  {
   "cell_type": "markdown",
   "metadata": {},
   "source": [
    "## Add Cluster Labels to list of neighbourhoods##"
   ]
  },
  {
   "cell_type": "code",
   "execution_count": null,
   "metadata": {},
   "outputs": [],
   "source": [
    "# add clustering labels\n",
    "df5.insert(0, 'Cluster Labels', kmeans.labels_)\n",
    "df5.columns=['Cluster Labels','Neighbourhood','Latitude','Longitude']\n",
    "df5"
   ]
  },
  {
   "cell_type": "markdown",
   "metadata": {},
   "source": [
    "# Question 3: Downtown Toronto Clustered Neighbourhoods #\n",
    "## Create cluster map of neighbourhoods in Folium and Display Map##"
   ]
  },
  {
   "cell_type": "code",
   "execution_count": 102,
   "metadata": {},
   "outputs": [
    {
     "data": {
      "text/html": [
       "<div style=\"width:100%;\"><div style=\"position:relative;width:100%;height:0;padding-bottom:60%;\"><iframe src=\"data:text/html;charset=utf-8;base64,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\" style=\"position:absolute;width:100%;height:100%;left:0;top:0;border:none !important;\" allowfullscreen webkitallowfullscreen mozallowfullscreen></iframe></div></div>"
      ],
      "text/plain": [
       "<folium.folium.Map at 0x226c962d4e0>"
      ]
     },
     "execution_count": 102,
     "metadata": {},
     "output_type": "execute_result"
    }
   ],
   "source": [
    "# create map\n",
    "map_clusters = folium.Map(location=[latitude, longitude], zoom_start=13)\n",
    "\n",
    "# set color scheme for the clusters\n",
    "x = np.arange(kclusters)\n",
    "ys = [i + x + (i*x)**2 for i in range(kclusters)]\n",
    "colors_array = cm.rainbow(np.linspace(0, 1, len(ys)))\n",
    "rainbow = [colors.rgb2hex(i) for i in colors_array]\n",
    "\n",
    "# add markers to the map\n",
    "markers_colors = []\n",
    "for lat, lon, poi, cluster in zip(df5['Latitude'], df5['Longitude'], df5['Neighbourhood'], df5['Cluster Labels']):\n",
    "    label = folium.Popup(str(poi) + ' Cluster ' + str(cluster), parse_html=True)\n",
    "    folium.CircleMarker(\n",
    "        [lat, lon],\n",
    "        radius=5,\n",
    "        popup=label,\n",
    "        color=rainbow[cluster-1],\n",
    "        fill=True,\n",
    "        fill_color=rainbow[cluster-1],\n",
    "        fill_opacity=0.7).add_to(map_clusters)\n",
    "       \n",
    "map_clusters"
   ]
  },
  {
   "cell_type": "code",
   "execution_count": null,
   "metadata": {},
   "outputs": [],
   "source": []
  }
 ],
 "metadata": {
  "kernelspec": {
   "display_name": "Python 3",
   "language": "python",
   "name": "python3"
  },
  "language_info": {
   "codemirror_mode": {
    "name": "ipython",
    "version": 3
   },
   "file_extension": ".py",
   "mimetype": "text/x-python",
   "name": "python",
   "nbconvert_exporter": "python",
   "pygments_lexer": "ipython3",
   "version": "3.6.5"
  }
 },
 "nbformat": 4,
 "nbformat_minor": 2
}
